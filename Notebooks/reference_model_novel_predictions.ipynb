{
 "cells": [
  {
   "cell_type": "markdown",
   "metadata": {},
   "source": [
    "## Import libraries"
   ]
  },
  {
   "cell_type": "code",
   "execution_count": null,
   "metadata": {},
   "outputs": [],
   "source": [
    "import numpy as np\n",
    "import pandas as pd\n",
    "import tensorflow as tf\n",
    "import tensorflow.keras as keras\n",
    "from tensorflow.keras import layers\n",
    "from ipywidgets import interact, widgets"
   ]
  },
  {
   "cell_type": "code",
   "execution_count": null,
   "metadata": {
    "pycharm": {
     "name": "#%%\n"
    }
   },
   "outputs": [],
   "source": [
    "np.set_printoptions(precision=4)\n",
    "np.set_printoptions(suppress=True)"
   ]
  },
  {
   "cell_type": "markdown",
   "metadata": {},
   "source": [
    "# Novel samples: prediction of novel ecosystems"
   ]
  },
  {
   "cell_type": "code",
   "execution_count": null,
   "metadata": {},
   "outputs": [],
   "source": [
    "# Interface to ask for age, temperature and precipitations3Days (with unit and valid range) \n",
    "# https://ipywidgets.readthedocs.io/en/stable/examples/Widget%20List.html#IntSlider\n",
    "\n",
    "a = widgets.FloatSlider(min=40,max=100,value=60)\n",
    "b = widgets.FloatSlider(min=0,max=5,value=1.5)\n",
    "c = widgets.IntSlider(min=1,max=20,value=4)\n",
    "\n",
    "\n",
    "accordion = widgets.Accordion(children=[a,b,c])\n",
    "accordion.set_title(0, 'Temperature (ºF):')\n",
    "accordion.set_title(1, 'Precipitations 3 days (inches):')\n",
    "accordion.set_title(2, 'Plant age (weeks):')\n",
    "accordion\n",
    "\n",
    "#out = widgets.interactive_output(f, {'a': a, 'b': b, 'c': c})\n",
    "\n",
    "t = widgets.Label(value=\"Please, select the environmental features associated to the maize plant/soil to what you would like to predict its rhizosphere microbiome:\")\n",
    "\n",
    "widgets.VBox([t, accordion])\n",
    "\n",
    "\n",
    "\n"
   ]
  },
  {
   "cell_type": "code",
   "execution_count": null,
   "metadata": {},
   "outputs": [],
   "source": [
    "temp=a.value\n",
    "rain=b.value\n",
    "age=c.value"
   ]
  },
  {
   "cell_type": "code",
   "execution_count": null,
   "metadata": {},
   "outputs": [],
   "source": [
    "metadata = pd.DataFrame({'X.SampleID': ['new01'], 'age': [age], 'Temperature': [temp], 'Precipitation3Days':[rain]}, \n",
    "                  columns=['X.SampleID','age','Temperature','Precipitation3Days'])\n",
    "metadata = metadata.set_index('X.SampleID')\n",
    "domain = metadata[['age',\n",
    "                   'Temperature',\n",
    "                   'Precipitation3Days']]\n",
    "domain"
   ]
  },
  {
   "cell_type": "code",
   "execution_count": null,
   "metadata": {},
   "outputs": [],
   "source": [
    "metadata.shape"
   ]
  },
  {
   "cell_type": "code",
   "execution_count": null,
   "metadata": {},
   "outputs": [],
   "source": [
    "domain_novel_samples = domain.to_numpy(dtype=np.float32)"
   ]
  },
  {
   "cell_type": "markdown",
   "metadata": {},
   "source": [
    "#### Load models"
   ]
  },
  {
   "cell_type": "code",
   "execution_count": null,
   "metadata": {},
   "outputs": [],
   "source": [
    "decoder = tf.keras.models.load_model('../Results/Models/decoder.h5')\n",
    "encoder_domain = tf.keras.models.load_model('../Results/Models/encoder_domain_model_latent.h5')"
   ]
  },
  {
   "cell_type": "markdown",
   "metadata": {},
   "source": [
    "#### Compute new predictions"
   ]
  },
  {
   "cell_type": "code",
   "execution_count": null,
   "metadata": {},
   "outputs": [],
   "source": [
    "# Input only domain (i.e. environmental features)\n",
    "pred_latent_novel_samples = encoder_domain.predict(domain_novel_samples)\n",
    "pred_domain_novel_samples = decoder.predict(pred_latent_novel_samples)"
   ]
  },
  {
   "cell_type": "code",
   "execution_count": null,
   "metadata": {},
   "outputs": [],
   "source": [
    "def save_predicted_otu_table(pred,sample_names,otu_names,suffix=''):\n",
    "    df_otu = pd.DataFrame(pred, index=sample_names, columns=otu_names)\n",
    "    df_otu.T.to_csv('../Results/otus_'+suffix+'.tsv', index=True, header=True, sep='\\t')\n",
    "  \n",
    "    return df_otu"
   ]
  },
  {
   "cell_type": "code",
   "execution_count": null,
   "metadata": {},
   "outputs": [],
   "source": [
    "# Get otu IDs\n",
    "otu = pd.read_csv('../Datasets/otu_table_all_80.csv', index_col=0, header=None, sep='\\t').T\n",
    "otu = otu.set_index('otuids')\n",
    "otuids = otu.columns"
   ]
  },
  {
   "cell_type": "code",
   "execution_count": null,
   "metadata": {},
   "outputs": [],
   "source": [
    "otuids"
   ]
  },
  {
   "cell_type": "code",
   "execution_count": null,
   "metadata": {},
   "outputs": [],
   "source": [
    "df_pred_otu = save_predicted_otu_table_and_latent(pred_domain_novel_samples,domain.index,otuids,'predFromDomain_novelSamples_byHandAPIvalues')"
   ]
  },
  {
   "cell_type": "code",
   "execution_count": null,
   "metadata": {},
   "outputs": [],
   "source": [
    "pred_domain_novel_samples.shape"
   ]
  },
  {
   "cell_type": "code",
   "execution_count": null,
   "metadata": {},
   "outputs": [],
   "source": [
    "pred_domain_novel_samples"
   ]
  },
  {
   "cell_type": "code",
   "execution_count": null,
   "metadata": {},
   "outputs": [],
   "source": [
    "### TO-DO: call R script to plot some phylosep plot\n",
    "### To get phyloseq object, taking code from: https://github.com/jorgemf/DeepLatentMicrobiome/blob/master/Src/plot_novel_samples_predictions_radarchart.r\n",
    "#file_tax = '../Datasets/tax_table_all_80_cleanNames.csv'\n",
    "#physeq_pred = build_physeq_object('../Results/otus_predFromDomain_novelSamples_byHandAPIvalues.tsv','../Datasets/metadata_novel_samples_byHandAPIvalues_only3envFeatures.csv',file_tax)\n"
   ]
  }
 ],
 "metadata": {
  "kernelspec": {
   "display_name": "Python 3",
   "language": "python",
   "name": "python3"
  },
  "language_info": {
   "codemirror_mode": {
    "name": "ipython",
    "version": 3
   },
   "file_extension": ".py",
   "mimetype": "text/x-python",
   "name": "python",
   "nbconvert_exporter": "python",
   "pygments_lexer": "ipython3",
   "version": "3.6.9"
  }
 },
 "nbformat": 4,
 "nbformat_minor": 4
}
