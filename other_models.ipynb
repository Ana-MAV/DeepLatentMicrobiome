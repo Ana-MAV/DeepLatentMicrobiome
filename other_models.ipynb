{
 "cells": [
  {
   "cell_type": "code",
   "execution_count": 1,
   "metadata": {},
   "outputs": [],
   "source": [
    "from train import *\n",
    "from test import *\n",
    "from layers import *\n",
    "from utils import *\n",
    "from loss import *\n",
    "from metric import *\n",
    "import tensorflow as tf\n",
    "import tensorflow.keras as keras\n",
    "from tensorflow.keras import layers"
   ]
  },
  {
   "cell_type": "markdown",
   "metadata": {},
   "source": [
    "# Autoencoder Bioma Bioma"
   ]
  },
  {
   "cell_type": "code",
   "execution_count": 2,
   "metadata": {},
   "outputs": [],
   "source": [
    "def model(shape, input_transform, output_transform, layers_list, latent_space, activation_fn):\n",
    "    in_layer = layers.Input(shape=(shape,))\n",
    "    net = in_layer\n",
    "    if input_transform is not None:\n",
    "        net = input_transform(net)\n",
    "    for s in layers_list:\n",
    "        net = layers.Dense(s, activation=activation_fn)(net)\n",
    "    net = layers.Dense(latent_space, activation=activation_fn)(net)\n",
    "    for s in reversed(layers_list):\n",
    "        net = layers.Dense(s, activation=activation_fn)(net)\n",
    "    net = layers.Dense(shape, activation=None)(net)\n",
    "    if output_transform is not None:\n",
    "        net = output_transform(net)\n",
    "    out_layer = net\n",
    "    \n",
    "    model = keras.Model(inputs=[in_layer], outputs=[out_layer], name='model')\n",
    "    return model\n",
    "\n",
    "def compile_model(model, optimizer, reconstruction_error, input_transform, output_transform):\n",
    "    metrics = get_experiment_metrics(input_transform, output_transform)[0][3:]\n",
    "    model.compile(optimizer=optimizer, loss=reconstruction_error, metrics=metrics)"
   ]
  },
  {
   "cell_type": "code",
   "execution_count": 3,
   "metadata": {},
   "outputs": [],
   "source": [
    "latent_space = 100\n",
    "def model_fn():\n",
    "    m = model(shape=717,\n",
    "              input_transform=CenterLogRatio(),\n",
    "              output_transform=None,\n",
    "              layers_list=[256,128],\n",
    "              latent_space=latent_space,\n",
    "              activation_fn='tanh')\n",
    "    \n",
    "    compile_model(model=m,\n",
    "                  optimizer=optimizers.Adam(lr=0.001),\n",
    "                  reconstruction_error=LossMeanSquaredErrorWrapper(CenterLogRatio(), None),\n",
    "                  input_transform=CenterLogRatio,\n",
    "                  output_transform=None)\n",
    "    return m, m, None, None"
   ]
  },
  {
   "cell_type": "code",
   "execution_count": null,
   "metadata": {},
   "outputs": [],
   "source": [
    "results, models = train(model_fn,\n",
    "                        data_microbioma_train,\n",
    "                        data_domain_train,\n",
    "                        latent_space=latent_space,\n",
    "                        folds=5,\n",
    "                        epochs=100,\n",
    "                        batch_size=64,\n",
    "                        learning_rate_scheduler=None,\n",
    "                        verbose=-1)"
   ]
  },
  {
   "cell_type": "code",
   "execution_count": null,
   "metadata": {},
   "outputs": [],
   "source": [
    "print_results(results)"
   ]
  },
  {
   "cell_type": "code",
   "execution_count": null,
   "metadata": {},
   "outputs": [],
   "source": [
    "def test_model(models, input_transform, output_transform):\n",
    "    data_bioma_test_transformed = data_microbioma_test\n",
    "    if input_transform is not None:\n",
    "        input_transform = input_transform()\n",
    "        data_bioma_test_transformed = input_transform(data_microbioma_test)\n",
    "    if output_transform is not None:\n",
    "        output_transform = output_transform()\n",
    "    metrics_results = {}\n",
    "    metrics = get_experiment_metrics(input_transform, output_transform)[0][3:]\n",
    "    otus_errors = []\n",
    "    for cv_models in models:\n",
    "        model, _, _, _ = cv_models\n",
    "        predictions = model.predict(data_microbioma_test)\n",
    "        for m in metrics:\n",
    "            if m.name not in metrics_results:\n",
    "                metrics_results[m.name] = []\n",
    "            result = m(data_microbioma_test, predictions)\n",
    "            m.reset_states()\n",
    "            metrics_results[m.name].append(result.numpy())\n",
    "        # otus error\n",
    "        se = tf.math.squared_difference(predictions, data_bioma_test_transformed)\n",
    "        mse = tf.reduce_mean(se, axis=0)\n",
    "        otus_errors.append(mse)\n",
    "    mse_otus = tf.reduce_mean(tf.stack(otus_errors, axis=0), axis=0)\n",
    "    mse_otus_keys = sorted(zip(mse_otus.numpy(), otu_columns), key=lambda x: x[0])\n",
    "    for k, v in list(metrics_results.items()):\n",
    "        v = np.asarray(v)\n",
    "        metrics_results[k] = (v.mean(), v.min(), v.max())\n",
    "    \n",
    "    md_text = \"## Test results \\n\"\n",
    "    md_text += \"| Metric           | Mean    | Min     | Max     |\\n\"\n",
    "    md_text += \"|:-----------------|--------:|--------:|--------:|\\n\"\n",
    "    for k, v in metrics_results.items():\n",
    "        md_text += \"| {} | {} | {} | {} |\\n\".format(k, v[0], v[1], v[2])\n",
    "\n",
    "\n",
    "    display(Markdown(md_text))\n",
    "\n",
    "    md_text =\"### Best Otus\\n\"\n",
    "    md_text += \"| OTU | mse |\\n\"\n",
    "    md_text += \"|:----|----:|\\n\"\n",
    "    for v, k in mse_otus_keys[:10]:\n",
    "        md_text += \"| {} | {} |\\n\".format(k, v)\n",
    "    md_text += \"\\n\\n\"\n",
    "    md_text +=\"### Worst Otus\\n\"\n",
    "    md_text += \"| OTU | mse |\\n\"\n",
    "    md_text += \"|:----|----:|\\n\"\n",
    "    for v, k in reversed(mse_otus_keys[-10:]):\n",
    "        md_text += \"| {} | {} |\\n\".format(k, v)\n",
    "\n",
    "    display(Markdown(md_text))"
   ]
  },
  {
   "cell_type": "code",
   "execution_count": null,
   "metadata": {},
   "outputs": [],
   "source": [
    "test_model(models, CenterLogRatio, None)"
   ]
  },
  {
   "cell_type": "markdown",
   "metadata": {},
   "source": [
    "# Domain-Bioma "
   ]
  },
  {
   "cell_type": "code",
   "execution_count": null,
   "metadata": {},
   "outputs": [],
   "source": [
    "def model(shape_in, shape_out, output_transform, layers_list, activation_fn):\n",
    "    in_layer = layers.Input(shape=(shape_in,))\n",
    "    net = in_layer\n",
    "    for s in layers_list:\n",
    "        net = layers.Dense(s, activation=activation_fn)(net)\n",
    "    net = layers.Dense(shape_out, activation=None)(net)\n",
    "    if output_transform is not None:\n",
    "        net = output_transform(net)\n",
    "    out_layer = net\n",
    "    \n",
    "    model = keras.Model(inputs=[in_layer], outputs=[out_layer], name='model')\n",
    "    return model\n",
    "\n",
    "def compile_model(model, optimizer, reconstruction_error, input_transform, output_transform):\n",
    "    metrics = get_experiment_metrics(input_transform, output_transform)[0][3:]\n",
    "    model.compile(optimizer=optimizer, loss=reconstruction_error, metrics=metrics)"
   ]
  },
  {
   "cell_type": "code",
   "execution_count": null,
   "metadata": {},
   "outputs": [],
   "source": [
    "def model_fn():\n",
    "    m = model(shape_in=36,\n",
    "              shape_out=717,\n",
    "              output_transform=None,\n",
    "              layers_list=[128,256],\n",
    "              activation_fn='tanh')\n",
    "    \n",
    "    compile_model(model=m,\n",
    "                  optimizer=optimizers.Adam(lr=0.001),\n",
    "                  reconstruction_error=LossMeanSquaredErrorWrapper(CenterLogRatio(), None),\n",
    "                  input_transform=CenterLogRatio,\n",
    "                  output_transform=None)\n",
    "    return m, None, m, None"
   ]
  },
  {
   "cell_type": "code",
   "execution_count": null,
   "metadata": {},
   "outputs": [],
   "source": [
    "results, models = train(model_fn,\n",
    "                        data_microbioma_train,\n",
    "                        data_domain_train,\n",
    "                        latent_space=latent_space,\n",
    "                        folds=5,\n",
    "                        epochs=100,\n",
    "                        batch_size=64,\n",
    "                        learning_rate_scheduler=None,\n",
    "                        verbose=-1)"
   ]
  },
  {
   "cell_type": "code",
   "execution_count": null,
   "metadata": {},
   "outputs": [],
   "source": [
    "print_results(results)"
   ]
  },
  {
   "cell_type": "code",
   "execution_count": null,
   "metadata": {},
   "outputs": [],
   "source": [
    "def test_model(models, input_transform, output_transform):\n",
    "    data_bioma_test_transformed = data_microbioma_test\n",
    "    if input_transform is not None:\n",
    "        input_transform = input_transform()\n",
    "        data_bioma_test_transformed = input_transform(data_microbioma_test)\n",
    "    if output_transform is not None:\n",
    "        output_transform = output_transform()\n",
    "    metrics_results = {}\n",
    "    metrics = get_experiment_metrics(input_transform, output_transform)[0][3:]\n",
    "    otus_errors = []\n",
    "    for cv_models in models:\n",
    "        model, _, _, _ = cv_models\n",
    "        predictions = model.predict(data_domain_test)\n",
    "        for m in metrics:\n",
    "            if m.name not in metrics_results:\n",
    "                metrics_results[m.name] = []\n",
    "            result = m(data_microbioma_test, predictions)\n",
    "            m.reset_states()\n",
    "            metrics_results[m.name].append(result.numpy())\n",
    "        # otus error\n",
    "        se = tf.math.squared_difference(predictions, data_bioma_test_transformed)\n",
    "        mse = tf.reduce_mean(se, axis=0)\n",
    "        otus_errors.append(mse)\n",
    "    mse_otus = tf.reduce_mean(tf.stack(otus_errors, axis=0), axis=0)\n",
    "    mse_otus_keys = sorted(zip(mse_otus.numpy(), otu_columns), key=lambda x: x[0])\n",
    "    for k, v in list(metrics_results.items()):\n",
    "        v = np.asarray(v)\n",
    "        metrics_results[k] = (v.mean(), v.min(), v.max())\n",
    "    \n",
    "    md_text = \"## Test results \\n\"\n",
    "    md_text += \"| Metric           | Mean    | Min     | Max     |\\n\"\n",
    "    md_text += \"|:-----------------|--------:|--------:|--------:|\\n\"\n",
    "    for k, v in metrics_results.items():\n",
    "        md_text += \"| {} | {} | {} | {} |\\n\".format(k, v[0], v[1], v[2])\n",
    "\n",
    "\n",
    "    display(Markdown(md_text))\n",
    "\n",
    "    md_text =\"### Best Otus\\n\"\n",
    "    md_text += \"| OTU | mse |\\n\"\n",
    "    md_text += \"|:----|----:|\\n\"\n",
    "    for v, k in mse_otus_keys[:10]:\n",
    "        md_text += \"| {} | {} |\\n\".format(k, v)\n",
    "    md_text += \"\\n\\n\"\n",
    "    md_text +=\"### Worst Otus\\n\"\n",
    "    md_text += \"| OTU | mse |\\n\"\n",
    "    md_text += \"|:----|----:|\\n\"\n",
    "    for v, k in reversed(mse_otus_keys[-10:]):\n",
    "        md_text += \"| {} | {} |\\n\".format(k, v)\n",
    "\n",
    "    display(Markdown(md_text))"
   ]
  },
  {
   "cell_type": "code",
   "execution_count": null,
   "metadata": {},
   "outputs": [],
   "source": [
    "test_model(models, CenterLogRatio, None)"
   ]
  }
 ],
 "metadata": {
  "kernelspec": {
   "display_name": "Python 3",
   "language": "python",
   "name": "python3"
  },
  "language_info": {
   "codemirror_mode": {
    "name": "ipython",
    "version": 3
   },
   "file_extension": ".py",
   "mimetype": "text/x-python",
   "name": "python",
   "nbconvert_exporter": "python",
   "pygments_lexer": "ipython3",
   "version": "3.6.10"
  }
 },
 "nbformat": 4,
 "nbformat_minor": 4
}
